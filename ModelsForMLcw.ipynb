{
  "nbformat": 4,
  "nbformat_minor": 0,
  "metadata": {
    "colab": {
      "provenance": [],
      "authorship_tag": "ABX9TyO6nJIEcUM9pQz9x/PRSpRm",
      "include_colab_link": true
    },
    "kernelspec": {
      "name": "python3",
      "display_name": "Python 3"
    },
    "language_info": {
      "name": "python"
    }
  },
  "cells": [
    {
      "cell_type": "markdown",
      "metadata": {
        "id": "view-in-github",
        "colab_type": "text"
      },
      "source": [
        "<a href=\"https://colab.research.google.com/github/megmarv/Client-Deposit-Prediction/blob/main/ModelsForMLcw.ipynb\" target=\"_parent\"><img src=\"https://colab.research.google.com/assets/colab-badge.svg\" alt=\"Open In Colab\"/></a>"
      ]
    },
    {
      "cell_type": "code",
      "source": [
        "import numpy as np\n",
        "import pandas as pd\n",
        "import tensorflow as tf\n",
        "from tensorflow.keras.models import Sequential\n",
        "from tensorflow.keras.layers import Dense, Dropout\n",
        "from sklearn.metrics import classification_report, accuracy_score\n",
        "from matplotlib import pyplot as plt"
      ],
      "metadata": {
        "id": "p73r3V4rtGTi"
      },
      "execution_count": 3,
      "outputs": []
    },
    {
      "cell_type": "code",
      "source": [
        "# Load preprocessed datasets\n",
        "X_train = pd.read_csv('/content/drive/MyDrive/ML/X_balanced.csv').values\n",
        "y_train = pd.read_csv('/content/drive/MyDrive/ML/y_balanced.csv')['y'].values\n",
        "X_test = pd.read_csv('/content/drive/MyDrive/ML/X_test_preprocessed.csv').values\n",
        "y_test = pd.read_csv('/content/drive/MyDrive/ML/y_test_preprocessed.csv')['y'].values"
      ],
      "metadata": {
        "id": "fOeV7mlxtILJ"
      },
      "execution_count": 4,
      "outputs": []
    },
    {
      "cell_type": "code",
      "source": [
        "# Define the FNN model\n",
        "model = Sequential([\n",
        "    Dense(128, input_dim=X_train.shape[1], activation='relu'),  # Input + 1st hidden layer\n",
        "    Dropout(0.3),  # Dropout for regularization\n",
        "    Dense(64, activation='relu'),  # 2nd hidden layer\n",
        "    Dropout(0.2),\n",
        "    Dense(1, activation='sigmoid')  # Output layer for binary classification\n",
        "])"
      ],
      "metadata": {
        "colab": {
          "base_uri": "https://localhost:8080/"
        },
        "id": "xvyyOsdttKkB",
        "outputId": "d07c2b72-ea2f-49ca-9da9-122b617d71af"
      },
      "execution_count": 5,
      "outputs": [
        {
          "output_type": "stream",
          "name": "stderr",
          "text": [
            "/usr/local/lib/python3.10/dist-packages/keras/src/layers/core/dense.py:87: UserWarning: Do not pass an `input_shape`/`input_dim` argument to a layer. When using Sequential models, prefer using an `Input(shape)` object as the first layer in the model instead.\n",
            "  super().__init__(activity_regularizer=activity_regularizer, **kwargs)\n"
          ]
        }
      ]
    },
    {
      "cell_type": "code",
      "source": [
        "# Compile the model\n",
        "model.compile(optimizer='adam', loss='binary_crossentropy', metrics=['accuracy'])\n",
        "\n",
        "# Train the model\n",
        "history = model.fit(X_train, y_train, epochs=50, batch_size=32, validation_split=0.2)\n",
        "\n",
        "# Evaluate the model on the test set\n",
        "y_pred_probs = model.predict(X_test)\n",
        "y_pred = (y_pred_probs > 0.5).astype(int)\n",
        "\n",
        "print(\"\\nAccuracy on Test Set:\", accuracy_score(y_test, y_pred))\n",
        "print(\"\\nClassification Report:\\n\", classification_report(y_test, y_pred))\n"
      ],
      "metadata": {
        "colab": {
          "base_uri": "https://localhost:8080/"
        },
        "id": "VMcy26d8tNIh",
        "outputId": "aafcbb1a-b90c-443c-dab9-a1ebac021c33"
      },
      "execution_count": null,
      "outputs": [
        {
          "output_type": "stream",
          "name": "stdout",
          "text": [
            "Epoch 1/50\n",
            "\u001b[1m1827/1827\u001b[0m \u001b[32m━━━━━━━━━━━━━━━━━━━━\u001b[0m\u001b[37m\u001b[0m \u001b[1m8s\u001b[0m 3ms/step - accuracy: 0.7693 - loss: 0.5224 - val_accuracy: 0.5916 - val_loss: 0.7432\n",
            "Epoch 2/50\n",
            "\u001b[1m1827/1827\u001b[0m \u001b[32m━━━━━━━━━━━━━━━━━━━━\u001b[0m\u001b[37m\u001b[0m \u001b[1m10s\u001b[0m 3ms/step - accuracy: 0.7813 - loss: 0.4969 - val_accuracy: 0.5970 - val_loss: 0.7074\n",
            "Epoch 3/50\n",
            "\u001b[1m1827/1827\u001b[0m \u001b[32m━━━━━━━━━━━━━━━━━━━━\u001b[0m\u001b[37m\u001b[0m \u001b[1m5s\u001b[0m 3ms/step - accuracy: 0.7860 - loss: 0.4774 - val_accuracy: 0.6163 - val_loss: 0.6464\n",
            "Epoch 4/50\n",
            "\u001b[1m1827/1827\u001b[0m \u001b[32m━━━━━━━━━━━━━━━━━━━━\u001b[0m\u001b[37m\u001b[0m \u001b[1m11s\u001b[0m 3ms/step - accuracy: 0.7899 - loss: 0.4660 - val_accuracy: 0.6305 - val_loss: 0.6024\n",
            "Epoch 5/50\n",
            "\u001b[1m1827/1827\u001b[0m \u001b[32m━━━━━━━━━━━━━━━━━━━━\u001b[0m\u001b[37m\u001b[0m \u001b[1m9s\u001b[0m 3ms/step - accuracy: 0.7953 - loss: 0.4542 - val_accuracy: 0.6702 - val_loss: 0.5998\n",
            "Epoch 6/50\n",
            "\u001b[1m1827/1827\u001b[0m \u001b[32m━━━━━━━━━━━━━━━━━━━━\u001b[0m\u001b[37m\u001b[0m \u001b[1m7s\u001b[0m 4ms/step - accuracy: 0.8051 - loss: 0.4373 - val_accuracy: 0.6881 - val_loss: 0.5594\n",
            "Epoch 7/50\n",
            "\u001b[1m1827/1827\u001b[0m \u001b[32m━━━━━━━━━━━━━━━━━━━━\u001b[0m\u001b[37m\u001b[0m \u001b[1m5s\u001b[0m 3ms/step - accuracy: 0.8055 - loss: 0.4321 - val_accuracy: 0.6898 - val_loss: 0.5643\n",
            "Epoch 8/50\n",
            "\u001b[1m1827/1827\u001b[0m \u001b[32m━━━━━━━━━━━━━━━━━━━━\u001b[0m\u001b[37m\u001b[0m \u001b[1m5s\u001b[0m 2ms/step - accuracy: 0.8125 - loss: 0.4234 - val_accuracy: 0.6761 - val_loss: 0.5787\n",
            "Epoch 9/50\n",
            "\u001b[1m1827/1827\u001b[0m \u001b[32m━━━━━━━━━━━━━━━━━━━━\u001b[0m\u001b[37m\u001b[0m \u001b[1m7s\u001b[0m 4ms/step - accuracy: 0.8143 - loss: 0.4147 - val_accuracy: 0.6969 - val_loss: 0.5757\n",
            "Epoch 10/50\n",
            "\u001b[1m1827/1827\u001b[0m \u001b[32m━━━━━━━━━━━━━━━━━━━━\u001b[0m\u001b[37m\u001b[0m \u001b[1m5s\u001b[0m 2ms/step - accuracy: 0.8210 - loss: 0.4038 - val_accuracy: 0.7223 - val_loss: 0.5271\n",
            "Epoch 11/50\n",
            "\u001b[1m1827/1827\u001b[0m \u001b[32m━━━━━━━━━━━━━━━━━━━━\u001b[0m\u001b[37m\u001b[0m \u001b[1m5s\u001b[0m 3ms/step - accuracy: 0.8252 - loss: 0.4001 - val_accuracy: 0.7067 - val_loss: 0.5573\n",
            "Epoch 12/50\n",
            "\u001b[1m1827/1827\u001b[0m \u001b[32m━━━━━━━━━━━━━━━━━━━━\u001b[0m\u001b[37m\u001b[0m \u001b[1m21s\u001b[0m 9ms/step - accuracy: 0.8241 - loss: 0.3961 - val_accuracy: 0.7318 - val_loss: 0.5103\n",
            "Epoch 13/50\n",
            "\u001b[1m1827/1827\u001b[0m \u001b[32m━━━━━━━━━━━━━━━━━━━━\u001b[0m\u001b[37m\u001b[0m \u001b[1m10s\u001b[0m 3ms/step - accuracy: 0.8266 - loss: 0.3905 - val_accuracy: 0.7287 - val_loss: 0.5168\n",
            "Epoch 14/50\n",
            "\u001b[1m1827/1827\u001b[0m \u001b[32m━━━━━━━━━━━━━━━━━━━━\u001b[0m\u001b[37m\u001b[0m \u001b[1m6s\u001b[0m 3ms/step - accuracy: 0.8304 - loss: 0.3874 - val_accuracy: 0.7856 - val_loss: 0.4446\n",
            "Epoch 15/50\n",
            "\u001b[1m1827/1827\u001b[0m \u001b[32m━━━━━━━━━━━━━━━━━━━━\u001b[0m\u001b[37m\u001b[0m \u001b[1m4s\u001b[0m 2ms/step - accuracy: 0.8316 - loss: 0.3859 - val_accuracy: 0.7658 - val_loss: 0.4581\n",
            "Epoch 16/50\n",
            "\u001b[1m1827/1827\u001b[0m \u001b[32m━━━━━━━━━━━━━━━━━━━━\u001b[0m\u001b[37m\u001b[0m \u001b[1m7s\u001b[0m 3ms/step - accuracy: 0.8364 - loss: 0.3776 - val_accuracy: 0.7459 - val_loss: 0.4914\n",
            "Epoch 17/50\n"
          ]
        }
      ]
    },
    {
      "cell_type": "code",
      "source": [
        "\n",
        "# Plot training and validation accuracy/loss\n",
        "plt.figure(figsize=(12, 4))\n",
        "plt.subplot(1, 2, 1)\n",
        "plt.plot(history.history['accuracy'], label='Training Accuracy')\n",
        "plt.plot(history.history['val_accuracy'], label='Validation Accuracy')\n",
        "plt.title('Accuracy over Epochs')\n",
        "plt.xlabel('Epochs')\n",
        "plt.ylabel('Accuracy')\n",
        "plt.legend()\n",
        "\n",
        "plt.subplot(1, 2, 2)\n",
        "plt.plot(history.history['loss'], label='Training Loss')\n",
        "plt.plot(history.history['val_loss'], label='Validation Loss')\n",
        "plt.title('Loss over Epochs')\n",
        "plt.xlabel('Epochs')\n",
        "plt.ylabel('Loss')\n",
        "plt.legend()\n",
        "\n",
        "plt.show()\n"
      ],
      "metadata": {
        "id": "wFja_41DtRe6"
      },
      "execution_count": null,
      "outputs": []
    },
    {
      "cell_type": "code",
      "source": [
        "# Save the model\n",
        "model.save('/content/drive/MyDrive/ML/fnn_model.h5')\n",
        "print(\"FNN model saved to Google Drive.\")"
      ],
      "metadata": {
        "id": "7kiCHA0ltViC"
      },
      "execution_count": null,
      "outputs": []
    }
  ]
}